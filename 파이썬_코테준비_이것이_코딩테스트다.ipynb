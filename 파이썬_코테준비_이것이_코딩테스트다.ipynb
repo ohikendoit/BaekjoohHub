{
  "nbformat": 4,
  "nbformat_minor": 0,
  "metadata": {
    "colab": {
      "provenance": [],
      "authorship_tag": "ABX9TyOLg4rxVNLcqI9QJqm5yL7x",
      "include_colab_link": true
    },
    "kernelspec": {
      "name": "python3",
      "display_name": "Python 3"
    },
    "language_info": {
      "name": "python"
    }
  },
  "cells": [
    {
      "cell_type": "markdown",
      "metadata": {
        "id": "view-in-github",
        "colab_type": "text"
      },
      "source": [
        "<a href=\"https://colab.research.google.com/github/ohikendoit/BaekjoonHub/blob/main/%ED%8C%8C%EC%9D%B4%EC%8D%AC_%EC%BD%94%ED%85%8C%EC%A4%80%EB%B9%84_%EC%9D%B4%EA%B2%83%EC%9D%B4_%EC%BD%94%EB%94%A9%ED%85%8C%EC%8A%A4%ED%8A%B8%EB%8B%A4.ipynb\" target=\"_parent\"><img src=\"https://colab.research.google.com/assets/colab-badge.svg\" alt=\"Open In Colab\"/></a>"
      ]
    },
    {
      "cell_type": "code",
      "metadata": {
        "id": "4OC5MQzqa_Ch"
      },
      "source": [],
      "execution_count": null,
      "outputs": []
    }
  ]
}