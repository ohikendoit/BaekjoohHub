{
  "nbformat": 4,
  "nbformat_minor": 0,
  "metadata": {
    "colab": {
      "provenance": [],
      "authorship_tag": "ABX9TyMA2mbX7HoMo+mc/bSyKElm",
      "include_colab_link": true
    },
    "kernelspec": {
      "name": "python3",
      "display_name": "Python 3"
    },
    "language_info": {
      "name": "python"
    }
  },
  "cells": [
    {
      "cell_type": "markdown",
      "metadata": {
        "id": "view-in-github",
        "colab_type": "text"
      },
      "source": [
        "<a href=\"https://colab.research.google.com/github/ohikendoit/BaekjoonHub/blob/main/%ED%8C%8C%EC%9D%B4%EC%8D%AC_%EC%BD%94%ED%85%8C%EC%A4%80%EB%B9%84_%EC%9D%B4%EA%B2%83%EC%9D%B4_%EC%BD%94%EB%94%A9%ED%85%8C%EC%8A%A4%ED%8A%B8%EB%8B%A4.ipynb\" target=\"_parent\"><img src=\"https://colab.research.google.com/assets/colab-badge.svg\" alt=\"Open In Colab\"/></a>"
      ]
    },
    {
      "cell_type": "markdown",
      "source": [
        "### Main Chapters\n",
        "- 그리디\n",
        "- 구현\n",
        "- DFS/BFS\n",
        "- 정렬\n",
        "- 이진 탐색\n",
        "- 다이나믹 프로그래밍\n",
        "- 최단 경로\n",
        "- 그래프 이론\n"
      ],
      "metadata": {
        "id": "XbmU58Desbab"
      }
    },
    {
      "cell_type": "markdown",
      "source": [
        "### 그리디\n",
        "현재 상황에서 가장 좋아 보이는 것만을 선택하는 알고리즘. 어떤 문제를 만났을 때, 바로 문제 유형을 파악하기 어렵다면, 그리디 알고리즘을 의심하고, 문제를 해결할 수 있는 탐욕적인 해결법이 존재하는지 고민해보자. "
      ],
      "metadata": {
        "id": "Esq_-Y8DDRCL"
      }
    },
    {
      "cell_type": "code",
      "metadata": {
        "id": "4OC5MQzqa_Ch",
        "colab": {
          "base_uri": "https://localhost:8080/"
        },
        "outputId": "063275dc-3135-4994-e390-8b4b53b573c9"
      },
      "source": [
        "#예제 3-1 거스름돈\n",
        "\n",
        "amount = 1260\n",
        "count = 0\n",
        "\n",
        "#큰 단위의 화폐부터 차례대로 확인\n",
        "list = [500, 100, 50, 10]\n",
        "\n",
        "for coin in list:\n",
        "  count += amount // coin\n",
        "  amount %= coin\n",
        "\n",
        "print(count)"
      ],
      "execution_count": null,
      "outputs": [
        {
          "output_type": "stream",
          "name": "stdout",
          "text": [
            "6\n"
          ]
        }
      ]
    },
    {
      "cell_type": "markdown",
      "source": [
        "파이썬 입력\n",
        "- list()\n",
        "- map()"
      ],
      "metadata": {
        "id": "C9K3jHSMhF63"
      }
    },
    {
      "cell_type": "code",
      "source": [
        "#큰 수의 법칙\n",
        "#input: 5 8 3\n",
        "#input: 2 4 5 4 6\n",
        "\n",
        "#n, m, k를 공백으로 구분하여 입력받기. m은 숫자가 더해지는 횟수, k는 최대 연속 가능횟수\n",
        "n, m, k = map(int, input().split())\n",
        "\n",
        "#n개의 수를 공백으로 구분하여 입력받기\n",
        "data = list(map(int, input().split()))\n",
        "\n",
        "data.sort() #입력받은 수들을 정리하기\n",
        "first = data[n-1] #가장 큰 수\n",
        "second = data[n-2] #두번째로 큰 수\n",
        "\n",
        "result = 0\n",
        "\n",
        "while True:\n",
        "  for i in range(k): #가장 큰 수를 K번 더하기\n",
        "    if m == 0: #m이 0이라면 반복문 탈출\n",
        "      break\n",
        "    result += first\n",
        "    m -= 1 #더할 때마다 1씩 빼기\n",
        "\n",
        "  if m == 0: #m이 0이라면 반복문 탈출\n",
        "    break\n",
        "    \n",
        "  result += second #두 번째로 큰 수를 한 번 더하기\n",
        "  m -= 1 #더할 때마다 1씩 빼기\n",
        "\n",
        "print(result)"
      ],
      "metadata": {
        "id": "tJFORG9OggLO"
      },
      "execution_count": null,
      "outputs": []
    },
    {
      "cell_type": "code",
      "source": [
        "#큰 수의 법칙 - 반복되는 수열기준\n",
        "\n",
        "#n, m, k를 공백으로 구분하여 입력받기. m은 숫자가 더해지는 횟수, k는 최대 연속 가능횟수\n",
        "n, m, k = map(int, input().split())\n",
        "\n",
        "#n개의 수를 공백으로 구분하여 입력받기\n",
        "data = list(map(int, input().split()))\n",
        "\n",
        "data.sort() #입력받은 수들을 정리하기\n",
        "first = data[n-1] #가장 큰 수\n",
        "second = data[n-2] #두번째로 큰 수\n",
        "\n",
        "#가장 큰 수가 더해지는 횟수 계산\n",
        "count = int(m / (k+1)) * k\n",
        "count += m % (k+1)\n",
        "\n",
        "result = 0\n",
        "result += (count) * first\n",
        "result += (m - count) * second\n",
        "\n",
        "print(result)"
      ],
      "metadata": {
        "id": "E4dzIVxmlIQG"
      },
      "execution_count": null,
      "outputs": []
    },
    {
      "cell_type": "code",
      "source": [
        "#숫자 카드 게임\n",
        "#각 행마다 가장 작은 수를 찾은 뒤에 그 수 중에서 가장 큰 수를 찾는 접근법\n",
        "\n",
        "#n, m을 공백으로 구분하여 입력받기\n",
        "n, m = map(int, input().split())\n",
        "\n",
        "result = 0\n",
        "#한 줄씩 입력받아 내용을 확인\n",
        "for i in range(n):\n",
        "  data = list(map(int, input().split()))\n",
        "  #현재 줄에서 가장 작은 수 찾기\n",
        "  min_value = min(data)\n",
        "  #가장 작은 수들 중에서 가장 큰 수 찾기\n",
        "  result = max(result, min_value)\n",
        "\n",
        "print(result)"
      ],
      "metadata": {
        "id": "G-l5pIfLmAG8"
      },
      "execution_count": null,
      "outputs": []
    },
    {
      "cell_type": "code",
      "source": [
        "#숫자 카드 게임 - 2중 반복문 구조 사용\n",
        "#각 행마다 가장 작은 수를 찾은 뒤에 그 수 중에서 가장 큰 수를 찾는 접근법\n",
        "\n",
        "#n, m을 공백으로 구분하여 입력받기\n",
        "n, m = map(int, input().split())\n",
        "\n",
        "result = 0\n",
        "#한 줄씩 입력받아 확인\n",
        "for i in range(n):\n",
        "  data = list(map(int, input()).split())\n",
        "  #현재 줄에서 '가장 작은 수' 찾기\n",
        "  min_value = 10001\n",
        "  for a in data:\n",
        "    min_value = min(min_value, a)\n",
        "  #가장 작은 수들 중에서 가장 큰 수 찾기\n",
        "  result = max(result, min_value)\n",
        "\n",
        "print(result)"
      ],
      "metadata": {
        "id": "cV_tyilbux7c"
      },
      "execution_count": null,
      "outputs": []
    }
  ]
}